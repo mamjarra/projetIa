{
 "cells": [
  {
   "cell_type": "code",
   "execution_count": 1,
   "metadata": {},
   "outputs": [],
   "source": [
    "import pandas as pd\n",
    "from sklearn.model_selection import train_test_split\n",
    "from sklearn.ensemble import RandomForestClassifier\n",
    "from sklearn.metrics import accuracy_score, classification_report\n",
    "from sklearn.preprocessing import StandardScaler\n",
    "import pickle\n"
   ]
  },
  {
   "cell_type": "code",
   "execution_count": 3,
   "metadata": {},
   "outputs": [],
   "source": [
    "# Chargement des données\n",
    "file_path = \"DatasetmalwareExtrait.csv\"  # Chemin vers le dataset\n",
    "data = pd.read_csv(file_path)"
   ]
  },
  {
   "cell_type": "code",
   "execution_count": 4,
   "metadata": {},
   "outputs": [],
   "source": [
    "# Normalisation des colonnes pertinentes\n",
    "columns_to_normalize = ['AddressOfEntryPoint', 'ResourceSize', 'SizeOfStackReserve']\n",
    "scaler = StandardScaler()\n",
    "data[columns_to_normalize] = scaler.fit_transform(data[columns_to_normalize])\n"
   ]
  },
  {
   "cell_type": "code",
   "execution_count": 5,
   "metadata": {},
   "outputs": [],
   "source": [
    "# Séparation des données en X (features) et y (target)\n",
    "X = data.drop('legitimate', axis=1)\n",
    "y = data['legitimate']"
   ]
  },
  {
   "cell_type": "code",
   "execution_count": 6,
   "metadata": {},
   "outputs": [],
   "source": [
    "# Division des données en ensemble d'entraînement et de test\n",
    "X_train, X_test, y_train, y_test = train_test_split(X, y, test_size=0.2, random_state=42)\n"
   ]
  },
  {
   "cell_type": "code",
   "execution_count": 12,
   "metadata": {},
   "outputs": [
    {
     "name": "stdout",
     "output_type": "stream",
     "text": [
      "🌲 Entraînement du modèle RandomForest...\n",
      "📊 Évaluation du modèle sur l'ensemble de test...\n",
      "🎯 Précision du modèle : 0.99\n",
      "📄 Rapport de classification :\n",
      "               precision    recall  f1-score   support\n",
      "\n",
      "           0       0.99      0.99      0.99     19186\n",
      "           1       0.98      0.99      0.99      8303\n",
      "\n",
      "    accuracy                           0.99     27489\n",
      "   macro avg       0.99      0.99      0.99     27489\n",
      "weighted avg       0.99      0.99      0.99     27489\n",
      "\n",
      "✅ Modèle RandomForest évalué et sauvegardé avec succès !\n"
     ]
    }
   ],
   "source": [
    "from sklearn.ensemble import RandomForestClassifier\n",
    "from sklearn.metrics import accuracy_score, classification_report\n",
    "import pickle\n",
    "\n",
    "# ✅ Étape 1 : Création et Entraînement du Modèle RandomForest\n",
    "print(\"🌲 Entraînement du modèle RandomForest...\")\n",
    "model = RandomForestClassifier(\n",
    "    n_estimators=100,  # Nombre d'arbres dans la forêt\n",
    "    random_state=42,   # Pour la reproductibilité\n",
    "    n_jobs=-1          # Utilisation de tous les cœurs disponibles\n",
    ")\n",
    "\n",
    "# Entraînement du modèle\n",
    "model.fit(X_train, y_train)\n",
    "\n",
    "# ✅ Étape 2 : Évaluation du Modèle\n",
    "print(\"📊 Évaluation du modèle sur l'ensemble de test...\")\n",
    "y_pred = model.predict(X_test)\n",
    "accuracy = accuracy_score(y_test, y_pred)\n",
    "print(f\"🎯 Précision du modèle : {accuracy:.2f}\")\n",
    "print(\"📄 Rapport de classification :\\n\", classification_report(y_test, y_pred))\n",
    "\n",
    "# ✅ Étape 3 : Sauvegarde du Modèle\n",
    "with open('malware_model.pkl', 'wb') as file:\n",
    "    pickle.dump(model, file)\n",
    "\n",
    "print(\"✅ Modèle RandomForest évalué et sauvegardé avec succès !\")\n"
   ]
  },
  {
   "cell_type": "code",
   "execution_count": 9,
   "metadata": {},
   "outputs": [
    {
     "name": "stdout",
     "output_type": "stream",
     "text": [
      "Précision du modèle : 0.99\n",
      "Rapport de classification :\n",
      "               precision    recall  f1-score   support\n",
      "\n",
      "           0       0.99      0.99      0.99     19186\n",
      "           1       0.98      0.99      0.99      8303\n",
      "\n",
      "    accuracy                           0.99     27489\n",
      "   macro avg       0.99      0.99      0.99     27489\n",
      "weighted avg       0.99      0.99      0.99     27489\n",
      "\n"
     ]
    }
   ],
   "source": [
    "# ✅ Étape 2 : Évaluation du Modèle\n",
    "# print(\"📊 Évaluation du modèle sur l'ensemble de test...\")\n",
    "# y_pred = model.predict(X_test)\n",
    "# accuracy = accuracy_score(y_test, y_pred)\n",
    "# print(f\"🎯 Précision du modèle : {accuracy:.2f}\")\n",
    "# print(\"📄 Rapport de classification :\\n\", classification_report(y_test, y_pred))\n"
   ]
  },
  {
   "cell_type": "code",
   "execution_count": null,
   "metadata": {},
   "outputs": [],
   "source": [
    "# ✅ Étape 3 : Sauvegarde du Modèle\n",
    "# with open('malware_model.pkl', 'wb') as file:\n",
    "#     pickle.dump(model, file)\n",
    "\n",
    "# print(\"✅ Modèle RandomForest évalué et sauvegardé avec succès !\")"
   ]
  }
 ],
 "metadata": {
  "kernelspec": {
   "display_name": "master1",
   "language": "python",
   "name": "python3"
  },
  "language_info": {
   "codemirror_mode": {
    "name": "ipython",
    "version": 3
   },
   "file_extension": ".py",
   "mimetype": "text/x-python",
   "name": "python",
   "nbconvert_exporter": "python",
   "pygments_lexer": "ipython3",
   "version": "3.10.16"
  }
 },
 "nbformat": 4,
 "nbformat_minor": 2
}
